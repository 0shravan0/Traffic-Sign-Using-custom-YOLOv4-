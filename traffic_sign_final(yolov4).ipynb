{
 "cells": [
  {
   "cell_type": "code",
   "execution_count": 1,
   "id": "b5775f6b",
   "metadata": {},
   "outputs": [
    {
     "name": "stdout",
     "output_type": "stream",
     "text": [
      "LOADING YOLO\n",
      "YOLO LOADED\n"
     ]
    }
   ],
   "source": [
    "import cv2\n",
    "import numpy as np\n",
    "import os \n",
    "\n",
    "# Load Yolo\n",
    "print(\"LOADING YOLO\")\n",
    "net = cv2.dnn.readNet(\"yolov4-custom_last.weights\", \"yolov4-custom.cfg\")\n",
    "net.setPreferableBackend(cv2.dnn.DNN_BACKEND_CUDA)\n",
    "net.setPreferableTarget(cv2.dnn.DNN_TARGET_CUDA)\n",
    "#save all the names in file o the list classes\n",
    "classes = []\n",
    "with open(\"obj.names\", \"r\") as f:\n",
    "    classes = [line.strip() for line in f.readlines()]\n",
    "#get layers of the network\n",
    "layer_names = net.getLayerNames()\n",
    "#Determine the output layer names from the YOLO model \n",
    "output_layers = [layer_names[i-1] for i in net.getUnconnectedOutLayers()]\n",
    "print(\"YOLO LOADED\")\n",
    "GREEN = (0,255,0) \n",
    "RED = (0,0,255)\n",
    "BLUE = (255,0,0)\n",
    "BLACK = (0,0,0)\n",
    "YELLOW =(0,255,255)\n",
    "WHITE = (255,255,255)"
   ]
  },
  {
   "cell_type": "code",
   "execution_count": 2,
   "id": "522cac33",
   "metadata": {},
   "outputs": [
    {
     "data": {
      "text/plain": [
       "['trafficlight', 'speedlimit', 'crosswalk', 'stop']"
      ]
     },
     "execution_count": 2,
     "metadata": {},
     "output_type": "execute_result"
    }
   ],
   "source": [
    "classes"
   ]
  },
  {
   "cell_type": "code",
   "execution_count": 3,
   "id": "116086f9",
   "metadata": {},
   "outputs": [],
   "source": [
    "video_capture = cv2.VideoCapture(0)\n",
    "while True:\n",
    "    # Capture frame-by-frame\n",
    "    re,img = video_capture.read()\n",
    "    #img = cv2.resize(img, None, fx=0.4, fy=0.4)\n",
    "    height, width, channels = img.shape\n",
    "\n",
    "    # USing blob function of opencv to preprocess image\n",
    "    blob = cv2.dnn.blobFromImage(img, 1 / 255.0, (416, 416),\n",
    "     swapRB=True, crop=False)\n",
    "    #Detecting objects\n",
    "    net.setInput(blob)\n",
    "    outs = net.forward(output_layers)\n",
    "\n",
    "    # Showing informations on the screen\n",
    "    class_ids = []\n",
    "    confidences = []\n",
    "    boxes = []\n",
    "    for out in outs:\n",
    "        for detection in out:\n",
    "            scores = detection[5:]\n",
    "            class_id = np.argmax(scores)\n",
    "            confidence = scores[class_id]\n",
    "            if confidence > 0.5:\n",
    "                # Object detected\n",
    "                center_x = int(detection[0] * width)\n",
    "                center_y = int(detection[1] * height)\n",
    "                w = int(detection[2] * width)\n",
    "                h = int(detection[3] * height)\n",
    "\n",
    "                # Rectangle coordinates\n",
    "                x = int(center_x - w / 2)\n",
    "                y = int(center_y - h / 2)\n",
    "\n",
    "                boxes.append([x, y, w, h])\n",
    "                confidences.append(float(confidence))\n",
    "                class_ids.append(class_id)\n",
    "    \n",
    "    #We use NMS function in opencv to perform Non-maximum Suppression\n",
    "    #we give it score threshold and nms threshold as arguments.\n",
    "    indexes = cv2.dnn.NMSBoxes(boxes, confidences, 0.5, 0.4)\n",
    "    #font = cv2.FONT_HERSHEY_DUPLEX\n",
    "    for i in range(len(boxes)):\n",
    "        if i in indexes:\n",
    "            x, y, w, h = boxes[i]\n",
    "            label = str(classes[class_ids[i]])\n",
    "            if label==\"trafficlight\":\n",
    "                cv2.rectangle(img, (x, y), (x + w, y + h), (0,255,0), 1)\n",
    "                cv2.putText(img, label, (x, y -20), 0, 1/2,(255,0,0), 1)\n",
    "            elif label==\"speedlimit\":\n",
    "                cv2.rectangle(img, (x, y), (x + w, y + h), (0,0,255), 1)\n",
    "                cv2.putText(img, label, (x, y -20), 0, 1/2,(255,0,0), 1)\n",
    "            elif label==\"crosswalk\":\n",
    "                cv2.rectangle(img, (x, y), (x + w, y + h), (125,125,125), 1)\n",
    "                cv2.putText(img, label, (x, y -20), 0, 1/2,(255,0,0), 1)\n",
    "            elif label==\"stop\":\n",
    "                cv2.rectangle(img, (x, y), (x + w, y + h), (125,125,125), 1)\n",
    "                cv2.putText(img, label, (x, y -20), 0, 1/2,(255,0,0), 1)\n",
    "                \n",
    "            #cv2.putText(img,'Distance is '+str(distance)+' Inch',(x, y + 15), font, 2, YELLOW, 2)\n",
    "#             else:\n",
    "#                 cv2.rectangle(img, (x, y), (x + w, y + h), GREEN, 2)\n",
    "#                 cv2.putText(img, \"without_mask\", (x, y -20), font, 1/2, BLUE, 1)\n",
    "#                 #cv2.putText(img,'Distance is '+str(distance)+' Inch',(x, y + 15), font, 2, YELLOW, 2)\n",
    "#                 cv2.putText(img,str(distance)+' Inch',(x, y - 5), font, 1/2, BLUE, 1)       \n",
    "                \n",
    "                \n",
    "\n",
    "    cv2.imshow(\"Image\",img)\n",
    "    if cv2.waitKey(10) & 0xFF == ord('q'):\n",
    "        break\n",
    "video_capture.release()\n",
    "cv2.destroyAllWindows()"
   ]
  },
  {
   "cell_type": "code",
   "execution_count": null,
   "id": "1ddb843d",
   "metadata": {},
   "outputs": [],
   "source": []
  },
  {
   "cell_type": "code",
   "execution_count": null,
   "id": "6a0850d6",
   "metadata": {},
   "outputs": [],
   "source": []
  },
  {
   "cell_type": "code",
   "execution_count": null,
   "id": "79f95c0b",
   "metadata": {},
   "outputs": [],
   "source": []
  }
 ],
 "metadata": {
  "kernelspec": {
   "display_name": "tf-gpu",
   "language": "python",
   "name": "tf-gpu"
  },
  "language_info": {
   "codemirror_mode": {
    "name": "ipython",
    "version": 3
   },
   "file_extension": ".py",
   "mimetype": "text/x-python",
   "name": "python",
   "nbconvert_exporter": "python",
   "pygments_lexer": "ipython3",
   "version": "3.9.7"
  }
 },
 "nbformat": 4,
 "nbformat_minor": 5
}
